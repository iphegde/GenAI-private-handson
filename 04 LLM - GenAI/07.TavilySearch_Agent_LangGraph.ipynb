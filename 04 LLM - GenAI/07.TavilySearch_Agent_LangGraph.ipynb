{
 "cells": [
  {
   "cell_type": "code",
   "execution_count": 1,
   "metadata": {},
   "outputs": [
    {
     "name": "stdout",
     "output_type": "stream",
     "text": [
      "Requirement already satisfied: langchain-community in d:\\new journey\\sap\\sap ai\\genaicourse2024\\codebase\\local-handson-3\\handson\\myml01\\04 llm\\llmenv\\lib\\site-packages (0.2.15)Note: you may need to restart the kernel to use updated packages.\n"
     ]
    },
    {
     "name": "stderr",
     "output_type": "stream",
     "text": [
      "\n",
      "[notice] A new release of pip is available: 24.0 -> 24.2\n",
      "[notice] To update, run: python.exe -m pip install --upgrade pip\n"
     ]
    },
    {
     "name": "stdout",
     "output_type": "stream",
     "text": [
      "\n",
      "Collecting langchain-community\n",
      "  Downloading langchain_community-0.2.16-py3-none-any.whl.metadata (2.7 kB)\n",
      "Collecting tavily-python\n",
      "  Downloading tavily_python-0.4.0-py3-none-any.whl.metadata (11 kB)\n",
      "Collecting langchainhub\n",
      "  Downloading langchainhub-0.1.21-py3-none-any.whl.metadata (659 bytes)\n",
      "Collecting langgraph\n",
      "  Downloading langgraph-0.2.16-py3-none-any.whl.metadata (13 kB)\n",
      "Requirement already satisfied: PyYAML>=5.3 in d:\\new journey\\sap\\sap ai\\genaicourse2024\\codebase\\local-handson-3\\handson\\myml01\\04 llm\\llmenv\\lib\\site-packages (from langchain-community) (6.0.2)\n",
      "Requirement already satisfied: SQLAlchemy<3,>=1.4 in d:\\new journey\\sap\\sap ai\\genaicourse2024\\codebase\\local-handson-3\\handson\\myml01\\04 llm\\llmenv\\lib\\site-packages (from langchain-community) (2.0.32)\n",
      "Requirement already satisfied: aiohttp<4.0.0,>=3.8.3 in d:\\new journey\\sap\\sap ai\\genaicourse2024\\codebase\\local-handson-3\\handson\\myml01\\04 llm\\llmenv\\lib\\site-packages (from langchain-community) (3.10.5)\n",
      "Requirement already satisfied: dataclasses-json<0.7,>=0.5.7 in d:\\new journey\\sap\\sap ai\\genaicourse2024\\codebase\\local-handson-3\\handson\\myml01\\04 llm\\llmenv\\lib\\site-packages (from langchain-community) (0.6.7)\n",
      "Collecting langchain<0.3.0,>=0.2.16 (from langchain-community)\n",
      "  Downloading langchain-0.2.16-py3-none-any.whl.metadata (7.1 kB)\n",
      "Collecting langchain-core<0.3.0,>=0.2.38 (from langchain-community)\n",
      "  Downloading langchain_core-0.2.38-py3-none-any.whl.metadata (6.2 kB)\n",
      "Requirement already satisfied: langsmith<0.2.0,>=0.1.0 in d:\\new journey\\sap\\sap ai\\genaicourse2024\\codebase\\local-handson-3\\handson\\myml01\\04 llm\\llmenv\\lib\\site-packages (from langchain-community) (0.1.108)\n",
      "Requirement already satisfied: numpy<2.0.0,>=1.26.0 in d:\\new journey\\sap\\sap ai\\genaicourse2024\\codebase\\local-handson-3\\handson\\myml01\\04 llm\\llmenv\\lib\\site-packages (from langchain-community) (1.26.4)\n",
      "Requirement already satisfied: requests<3,>=2 in d:\\new journey\\sap\\sap ai\\genaicourse2024\\codebase\\local-handson-3\\handson\\myml01\\04 llm\\llmenv\\lib\\site-packages (from langchain-community) (2.32.3)\n",
      "Requirement already satisfied: tenacity!=8.4.0,<9.0.0,>=8.1.0 in d:\\new journey\\sap\\sap ai\\genaicourse2024\\codebase\\local-handson-3\\handson\\myml01\\04 llm\\llmenv\\lib\\site-packages (from langchain-community) (8.5.0)\n",
      "Requirement already satisfied: tiktoken>=0.5.1 in d:\\new journey\\sap\\sap ai\\genaicourse2024\\codebase\\local-handson-3\\handson\\myml01\\04 llm\\llmenv\\lib\\site-packages (from tavily-python) (0.7.0)\n",
      "Requirement already satisfied: httpx in d:\\new journey\\sap\\sap ai\\genaicourse2024\\codebase\\local-handson-3\\handson\\myml01\\04 llm\\llmenv\\lib\\site-packages (from tavily-python) (0.27.2)\n",
      "Requirement already satisfied: packaging<25,>=23.2 in d:\\new journey\\sap\\sap ai\\genaicourse2024\\codebase\\local-handson-3\\handson\\myml01\\04 llm\\llmenv\\lib\\site-packages (from langchainhub) (24.1)\n",
      "Collecting types-requests<3.0.0.0,>=2.31.0.2 (from langchainhub)\n",
      "  Downloading types_requests-2.32.0.20240712-py3-none-any.whl.metadata (1.9 kB)\n",
      "Collecting langgraph-checkpoint<2.0.0,>=1.0.2 (from langgraph)\n",
      "  Downloading langgraph_checkpoint-1.0.8-py3-none-any.whl.metadata (4.5 kB)\n",
      "Requirement already satisfied: aiohappyeyeballs>=2.3.0 in d:\\new journey\\sap\\sap ai\\genaicourse2024\\codebase\\local-handson-3\\handson\\myml01\\04 llm\\llmenv\\lib\\site-packages (from aiohttp<4.0.0,>=3.8.3->langchain-community) (2.4.0)\n",
      "Requirement already satisfied: aiosignal>=1.1.2 in d:\\new journey\\sap\\sap ai\\genaicourse2024\\codebase\\local-handson-3\\handson\\myml01\\04 llm\\llmenv\\lib\\site-packages (from aiohttp<4.0.0,>=3.8.3->langchain-community) (1.3.1)\n",
      "Requirement already satisfied: attrs>=17.3.0 in d:\\new journey\\sap\\sap ai\\genaicourse2024\\codebase\\local-handson-3\\handson\\myml01\\04 llm\\llmenv\\lib\\site-packages (from aiohttp<4.0.0,>=3.8.3->langchain-community) (24.2.0)\n",
      "Requirement already satisfied: frozenlist>=1.1.1 in d:\\new journey\\sap\\sap ai\\genaicourse2024\\codebase\\local-handson-3\\handson\\myml01\\04 llm\\llmenv\\lib\\site-packages (from aiohttp<4.0.0,>=3.8.3->langchain-community) (1.4.1)\n",
      "Requirement already satisfied: multidict<7.0,>=4.5 in d:\\new journey\\sap\\sap ai\\genaicourse2024\\codebase\\local-handson-3\\handson\\myml01\\04 llm\\llmenv\\lib\\site-packages (from aiohttp<4.0.0,>=3.8.3->langchain-community) (6.0.5)\n",
      "Requirement already satisfied: yarl<2.0,>=1.0 in d:\\new journey\\sap\\sap ai\\genaicourse2024\\codebase\\local-handson-3\\handson\\myml01\\04 llm\\llmenv\\lib\\site-packages (from aiohttp<4.0.0,>=3.8.3->langchain-community) (1.9.6)\n",
      "Requirement already satisfied: marshmallow<4.0.0,>=3.18.0 in d:\\new journey\\sap\\sap ai\\genaicourse2024\\codebase\\local-handson-3\\handson\\myml01\\04 llm\\llmenv\\lib\\site-packages (from dataclasses-json<0.7,>=0.5.7->langchain-community) (3.22.0)\n",
      "Requirement already satisfied: typing-inspect<1,>=0.4.0 in d:\\new journey\\sap\\sap ai\\genaicourse2024\\codebase\\local-handson-3\\handson\\myml01\\04 llm\\llmenv\\lib\\site-packages (from dataclasses-json<0.7,>=0.5.7->langchain-community) (0.9.0)\n",
      "Requirement already satisfied: langchain-text-splitters<0.3.0,>=0.2.0 in d:\\new journey\\sap\\sap ai\\genaicourse2024\\codebase\\local-handson-3\\handson\\myml01\\04 llm\\llmenv\\lib\\site-packages (from langchain<0.3.0,>=0.2.16->langchain-community) (0.2.2)\n",
      "Requirement already satisfied: pydantic<3,>=1 in d:\\new journey\\sap\\sap ai\\genaicourse2024\\codebase\\local-handson-3\\handson\\myml01\\04 llm\\llmenv\\lib\\site-packages (from langchain<0.3.0,>=0.2.16->langchain-community) (2.8.2)\n",
      "Requirement already satisfied: jsonpatch<2.0,>=1.33 in d:\\new journey\\sap\\sap ai\\genaicourse2024\\codebase\\local-handson-3\\handson\\myml01\\04 llm\\llmenv\\lib\\site-packages (from langchain-core<0.3.0,>=0.2.38->langchain-community) (1.33)\n",
      "Requirement already satisfied: typing-extensions>=4.7 in d:\\new journey\\sap\\sap ai\\genaicourse2024\\codebase\\local-handson-3\\handson\\myml01\\04 llm\\llmenv\\lib\\site-packages (from langchain-core<0.3.0,>=0.2.38->langchain-community) (4.12.2)\n",
      "Requirement already satisfied: orjson<4.0.0,>=3.9.14 in d:\\new journey\\sap\\sap ai\\genaicourse2024\\codebase\\local-handson-3\\handson\\myml01\\04 llm\\llmenv\\lib\\site-packages (from langsmith<0.2.0,>=0.1.0->langchain-community) (3.10.7)\n",
      "Requirement already satisfied: anyio in d:\\new journey\\sap\\sap ai\\genaicourse2024\\codebase\\local-handson-3\\handson\\myml01\\04 llm\\llmenv\\lib\\site-packages (from httpx->tavily-python) (4.4.0)\n",
      "Requirement already satisfied: certifi in d:\\new journey\\sap\\sap ai\\genaicourse2024\\codebase\\local-handson-3\\handson\\myml01\\04 llm\\llmenv\\lib\\site-packages (from httpx->tavily-python) (2024.8.30)\n",
      "Requirement already satisfied: httpcore==1.* in d:\\new journey\\sap\\sap ai\\genaicourse2024\\codebase\\local-handson-3\\handson\\myml01\\04 llm\\llmenv\\lib\\site-packages (from httpx->tavily-python) (1.0.5)\n",
      "Requirement already satisfied: idna in d:\\new journey\\sap\\sap ai\\genaicourse2024\\codebase\\local-handson-3\\handson\\myml01\\04 llm\\llmenv\\lib\\site-packages (from httpx->tavily-python) (3.8)\n",
      "Requirement already satisfied: sniffio in d:\\new journey\\sap\\sap ai\\genaicourse2024\\codebase\\local-handson-3\\handson\\myml01\\04 llm\\llmenv\\lib\\site-packages (from httpx->tavily-python) (1.3.1)\n",
      "Requirement already satisfied: h11<0.15,>=0.13 in d:\\new journey\\sap\\sap ai\\genaicourse2024\\codebase\\local-handson-3\\handson\\myml01\\04 llm\\llmenv\\lib\\site-packages (from httpcore==1.*->httpx->tavily-python) (0.14.0)\n",
      "Requirement already satisfied: charset-normalizer<4,>=2 in d:\\new journey\\sap\\sap ai\\genaicourse2024\\codebase\\local-handson-3\\handson\\myml01\\04 llm\\llmenv\\lib\\site-packages (from requests<3,>=2->langchain-community) (3.3.2)\n",
      "Requirement already satisfied: urllib3<3,>=1.21.1 in d:\\new journey\\sap\\sap ai\\genaicourse2024\\codebase\\local-handson-3\\handson\\myml01\\04 llm\\llmenv\\lib\\site-packages (from requests<3,>=2->langchain-community) (2.2.2)\n",
      "Requirement already satisfied: greenlet!=0.4.17 in d:\\new journey\\sap\\sap ai\\genaicourse2024\\codebase\\local-handson-3\\handson\\myml01\\04 llm\\llmenv\\lib\\site-packages (from SQLAlchemy<3,>=1.4->langchain-community) (3.0.3)\n",
      "Requirement already satisfied: regex>=2022.1.18 in d:\\new journey\\sap\\sap ai\\genaicourse2024\\codebase\\local-handson-3\\handson\\myml01\\04 llm\\llmenv\\lib\\site-packages (from tiktoken>=0.5.1->tavily-python) (2024.7.24)\n",
      "Requirement already satisfied: jsonpointer>=1.9 in d:\\new journey\\sap\\sap ai\\genaicourse2024\\codebase\\local-handson-3\\handson\\myml01\\04 llm\\llmenv\\lib\\site-packages (from jsonpatch<2.0,>=1.33->langchain-core<0.3.0,>=0.2.38->langchain-community) (3.0.0)\n",
      "Requirement already satisfied: annotated-types>=0.4.0 in d:\\new journey\\sap\\sap ai\\genaicourse2024\\codebase\\local-handson-3\\handson\\myml01\\04 llm\\llmenv\\lib\\site-packages (from pydantic<3,>=1->langchain<0.3.0,>=0.2.16->langchain-community) (0.7.0)\n",
      "Requirement already satisfied: pydantic-core==2.20.1 in d:\\new journey\\sap\\sap ai\\genaicourse2024\\codebase\\local-handson-3\\handson\\myml01\\04 llm\\llmenv\\lib\\site-packages (from pydantic<3,>=1->langchain<0.3.0,>=0.2.16->langchain-community) (2.20.1)\n",
      "Requirement already satisfied: mypy-extensions>=0.3.0 in d:\\new journey\\sap\\sap ai\\genaicourse2024\\codebase\\local-handson-3\\handson\\myml01\\04 llm\\llmenv\\lib\\site-packages (from typing-inspect<1,>=0.4.0->dataclasses-json<0.7,>=0.5.7->langchain-community) (1.0.0)\n",
      "Downloading langchain_community-0.2.16-py3-none-any.whl (2.3 MB)\n",
      "   ---------------------------------------- 0.0/2.3 MB ? eta -:--:--\n",
      "   -- ------------------------------------- 0.1/2.3 MB 3.6 MB/s eta 0:00:01\n",
      "   ----------- ---------------------------- 0.7/2.3 MB 8.3 MB/s eta 0:00:01\n",
      "   ---------------------- ----------------- 1.3/2.3 MB 10.4 MB/s eta 0:00:01\n",
      "   --------------------------------- ------ 2.0/2.3 MB 11.4 MB/s eta 0:00:01\n",
      "   ---------------------------------------- 2.3/2.3 MB 10.7 MB/s eta 0:00:00\n",
      "Downloading tavily_python-0.4.0-py3-none-any.whl (13 kB)\n",
      "Downloading langchainhub-0.1.21-py3-none-any.whl (5.2 kB)\n",
      "Downloading langgraph-0.2.16-py3-none-any.whl (91 kB)\n",
      "   ---------------------------------------- 0.0/91.1 kB ? eta -:--:--\n",
      "   ---------------------------------------- 91.1/91.1 kB 5.1 MB/s eta 0:00:00\n",
      "Downloading langchain-0.2.16-py3-none-any.whl (1.0 MB)\n",
      "   ---------------------------------------- 0.0/1.0 MB ? eta -:--:--\n",
      "   ----------------------- ---------------- 0.6/1.0 MB 18.8 MB/s eta 0:00:01\n",
      "   ---------------------------------------- 1.0/1.0 MB 12.7 MB/s eta 0:00:00\n",
      "Downloading langchain_core-0.2.38-py3-none-any.whl (396 kB)\n",
      "   ---------------------------------------- 0.0/396.4 kB ? eta -:--:--\n",
      "   --------------------------------------- 396.4/396.4 kB 12.1 MB/s eta 0:00:00\n",
      "Downloading langgraph_checkpoint-1.0.8-py3-none-any.whl (15 kB)\n",
      "Downloading types_requests-2.32.0.20240712-py3-none-any.whl (15 kB)\n",
      "Installing collected packages: types-requests, langchainhub, tavily-python, langchain-core, langgraph-checkpoint, langgraph, langchain, langchain-community\n",
      "  Attempting uninstall: langchain-core\n",
      "    Found existing installation: langchain-core 0.2.37\n",
      "    Uninstalling langchain-core-0.2.37:\n",
      "      Successfully uninstalled langchain-core-0.2.37\n",
      "  Attempting uninstall: langchain\n",
      "    Found existing installation: langchain 0.2.15\n",
      "    Uninstalling langchain-0.2.15:\n",
      "      Successfully uninstalled langchain-0.2.15\n",
      "  Attempting uninstall: langchain-community\n",
      "    Found existing installation: langchain-community 0.2.15\n",
      "    Uninstalling langchain-community-0.2.15:\n",
      "      Successfully uninstalled langchain-community-0.2.15\n",
      "Successfully installed langchain-0.2.16 langchain-community-0.2.16 langchain-core-0.2.38 langchainhub-0.1.21 langgraph-0.2.16 langgraph-checkpoint-1.0.8 tavily-python-0.4.0 types-requests-2.32.0.20240712\n"
     ]
    }
   ],
   "source": [
    "pip install -U langchain-community tavily-python langchainhub langgraph"
   ]
  },
  {
   "cell_type": "code",
   "execution_count": 1,
   "metadata": {},
   "outputs": [],
   "source": [
    "import os\n",
    "from dotenv import load_dotenv\n",
    "load_dotenv()\n",
    "\n",
    "os.environ['OPENAI_API_KEY'] = os.getenv('OPENAI_API_KEY')\n",
    "os.environ['LANGCHAIN_TRACING_V2'] = 'true'\n",
    "os.environ['LANGCHAIN_API_KEY'] = os.getenv('LANGCHAIN_API_KEY')\n",
    "\n",
    "os.environ['TAVILY_API_KEY'] = os.getenv('TAVILY_API_KEY')\n"
   ]
  },
  {
   "cell_type": "code",
   "execution_count": 2,
   "metadata": {},
   "outputs": [
    {
     "data": {
      "text/plain": [
       "[{'url': 'https://www.weatherapi.com/',\n",
       "  'content': \"{'location': {'name': 'Herlev', 'region': 'Hovedstaden', 'country': 'Denmark', 'lat': 55.72, 'lon': 12.45, 'tz_id': 'Europe/Copenhagen', 'localtime_epoch': 1725474332, 'localtime': '2024-09-04 20:25'}, 'current': {'last_updated_epoch': 1725473700, 'last_updated': '2024-09-04 20:15', 'temp_c': 24.1, 'temp_f': 75.4, 'is_day': 0, 'condition': {'text': 'Clear', 'icon': '//cdn.weatherapi.com/weather/64x64/night/113.png', 'code': 1000}, 'wind_mph': 13.6, 'wind_kph': 22.0, 'wind_degree': 80, 'wind_dir': 'E', 'pressure_mb': 1018.0, 'pressure_in': 30.06, 'precip_mm': 0.0, 'precip_in': 0.0, 'humidity': 61, 'cloud': 0, 'feelslike_c': 25.5, 'feelslike_f': 78.0, 'windchill_c': 21.6, 'windchill_f': 70.9, 'heatindex_c': 24.5, 'heatindex_f': 76.1, 'dewpoint_c': 13.6, 'dewpoint_f': 56.4, 'vis_km': 10.0, 'vis_miles': 6.0, 'uv': 1.0, 'gust_mph': 26.9, 'gust_kph': 43.3}}\"},\n",
       " {'url': 'https://www.weathertab.com/en/d/e/09/kingdom-of-denmark/region-hovedstaden/herlev/',\n",
       "  'content': 'Our Herlev, Region Hovedstaden Daily Weather Forecast for September 2024, developed from a specialized dynamic long-range model, provides precise daily temperature and rainfall predictions. This model, distinct from standard statistical or climatological approaches, is the result of over 50 years of dedicated private research, offering a ...'}]"
      ]
     },
     "execution_count": 2,
     "metadata": {},
     "output_type": "execute_result"
    }
   ],
   "source": [
    "from langchain_community.tools.tavily_search import TavilySearchResults\n",
    "\n",
    "search = TavilySearchResults(max_results = 2)\n",
    "\n",
    "search.invoke(\"What is the weather in Herlev in Denmark today?\")"
   ]
  },
  {
   "cell_type": "code",
   "execution_count": 3,
   "metadata": {},
   "outputs": [],
   "source": [
    "#List of tools\n",
    "tools = [search]\n",
    "\n",
    "from langchain_openai import ChatOpenAI\n",
    "\n",
    "model = ChatOpenAI(model=\"gpt-4\")"
   ]
  },
  {
   "cell_type": "code",
   "execution_count": 9,
   "metadata": {},
   "outputs": [
    {
     "data": {
      "text/plain": [
       "'Hello! How can I assist you today?'"
      ]
     },
     "execution_count": 9,
     "metadata": {},
     "output_type": "execute_result"
    }
   ],
   "source": [
    "# from langchain_core.messages import HumanMessage\n",
    "\n",
    "# response = model.invoke([HumanMessage(content=\"Hi\")])\n",
    "# response.content"
   ]
  },
  {
   "cell_type": "code",
   "execution_count": 4,
   "metadata": {},
   "outputs": [],
   "source": [
    "model_with_tools = model.bind_tools(tools)"
   ]
  },
  {
   "cell_type": "code",
   "execution_count": 13,
   "metadata": {},
   "outputs": [
    {
     "name": "stdout",
     "output_type": "stream",
     "text": [
      "ContentString: Hello! How can I assist you today?\n",
      "ToolCalls: []\n"
     ]
    }
   ],
   "source": [
    "# model_with_tools.invoke([HumanMessage(content=\"Hi\")])\n",
    "\n",
    "# print(f\"ContentString: {response.content}\")\n",
    "# print(f\"ToolCalls: {response.tool_calls}\")"
   ]
  },
  {
   "cell_type": "code",
   "execution_count": 7,
   "metadata": {},
   "outputs": [
    {
     "name": "stdout",
     "output_type": "stream",
     "text": [
      "ContentString: \n",
      "ToolCalls: [{'name': 'tavily_search_results_json', 'args': {'query': 'current weather in Bangalore'}, 'id': 'call_Q4Apvpy4vzV3n9NLlDvgFlbO', 'type': 'tool_call'}]\n"
     ]
    }
   ],
   "source": [
    "from langchain_core.messages import HumanMessage\n",
    "response = model_with_tools.invoke([HumanMessage(content=\"How is the weather in Bangalore?\")])\n",
    "\n",
    "print(f\"ContentString: {response.content}\")\n",
    "print(f\"ToolCalls: {response.tool_calls}\")"
   ]
  },
  {
   "cell_type": "code",
   "execution_count": 11,
   "metadata": {},
   "outputs": [],
   "source": [
    "from langgraph.prebuilt import chat_agent_executor\n",
    "\n",
    "agent_executor = chat_agent_executor.create_tool_calling_executor(model,tools)"
   ]
  },
  {
   "cell_type": "code",
   "execution_count": 24,
   "metadata": {},
   "outputs": [
    {
     "data": {
      "text/plain": [
       "[HumanMessage(content='How is the weather in Bangalore?', id='0d1588b1-21a3-4d08-b2d0-12bed39818da'),\n",
       " AIMessage(content='', additional_kwargs={'tool_calls': [{'id': 'call_LSo5agDIkeSxFNQIXsyM7IyP', 'function': {'arguments': '{\\n  \"query\": \"current weather in Bangalore\"\\n}', 'name': 'tavily_search_results_json'}, 'type': 'function'}], 'refusal': None}, response_metadata={'token_usage': {'completion_tokens': 22, 'prompt_tokens': 88, 'total_tokens': 110}, 'model_name': 'gpt-4-0613', 'system_fingerprint': None, 'finish_reason': 'tool_calls', 'logprobs': None}, id='run-243e1f57-a256-4e32-89e2-35b2cbfce5ce-0', tool_calls=[{'name': 'tavily_search_results_json', 'args': {'query': 'current weather in Bangalore'}, 'id': 'call_LSo5agDIkeSxFNQIXsyM7IyP', 'type': 'tool_call'}], usage_metadata={'input_tokens': 88, 'output_tokens': 22, 'total_tokens': 110}),\n",
       " ToolMessage(content='[{\"url\": \"https://www.weatherapi.com/\", \"content\": \"{\\'location\\': {\\'name\\': \\'Bangalore\\', \\'region\\': \\'Karnataka\\', \\'country\\': \\'India\\', \\'lat\\': 12.98, \\'lon\\': 77.58, \\'tz_id\\': \\'Asia/Kolkata\\', \\'localtime_epoch\\': 1725474967, \\'localtime\\': \\'2024-09-05 00:06\\'}, \\'current\\': {\\'last_updated_epoch\\': 1725474600, \\'last_updated\\': \\'2024-09-05 00:00\\', \\'temp_c\\': 24.3, \\'temp_f\\': 75.7, \\'is_day\\': 0, \\'condition\\': {\\'text\\': \\'Partly cloudy\\', \\'icon\\': \\'//cdn.weatherapi.com/weather/64x64/night/116.png\\', \\'code\\': 1003}, \\'wind_mph\\': 9.4, \\'wind_kph\\': 15.1, \\'wind_degree\\': 270, \\'wind_dir\\': \\'W\\', \\'pressure_mb\\': 1014.0, \\'pressure_in\\': 29.94, \\'precip_mm\\': 0.0, \\'precip_in\\': 0.0, \\'humidity\\': 89, \\'cloud\\': 75, \\'feelslike_c\\': 26.6, \\'feelslike_f\\': 79.9, \\'windchill_c\\': 20.2, \\'windchill_f\\': 68.3, \\'heatindex_c\\': 20.2, \\'heatindex_f\\': 68.3, \\'dewpoint_c\\': 18.2, \\'dewpoint_f\\': 64.7, \\'vis_km\\': 6.0, \\'vis_miles\\': 3.0, \\'uv\\': 1.0, \\'gust_mph\\': 17.9, \\'gust_kph\\': 28.9}}\"}, {\"url\": \"https://www.hindustantimes.com/cities/bengaluru-news/bangalore-weather-today-aqi-and-rain-forecast-updates-september-4-2024-101725413408429.html\", \"content\": \"The temperature in Bangalore today, on September 4, 2024, is 23.95 \\\\u00b0C. The day\\'s forecast indicates a minimum and maximum temperature of 20.52 \\\\u00b0C and 27.04 \\\\u00b0C, respectively. The relative ...\"}]', name='tavily_search_results_json', id='70ebefd9-6be1-486a-a730-919fc4609f74', tool_call_id='call_LSo5agDIkeSxFNQIXsyM7IyP', artifact={'query': 'current weather in Bangalore', 'follow_up_questions': None, 'answer': None, 'images': [], 'results': [{'title': 'Weather in Bangalore', 'url': 'https://www.weatherapi.com/', 'content': \"{'location': {'name': 'Bangalore', 'region': 'Karnataka', 'country': 'India', 'lat': 12.98, 'lon': 77.58, 'tz_id': 'Asia/Kolkata', 'localtime_epoch': 1725474967, 'localtime': '2024-09-05 00:06'}, 'current': {'last_updated_epoch': 1725474600, 'last_updated': '2024-09-05 00:00', 'temp_c': 24.3, 'temp_f': 75.7, 'is_day': 0, 'condition': {'text': 'Partly cloudy', 'icon': '//cdn.weatherapi.com/weather/64x64/night/116.png', 'code': 1003}, 'wind_mph': 9.4, 'wind_kph': 15.1, 'wind_degree': 270, 'wind_dir': 'W', 'pressure_mb': 1014.0, 'pressure_in': 29.94, 'precip_mm': 0.0, 'precip_in': 0.0, 'humidity': 89, 'cloud': 75, 'feelslike_c': 26.6, 'feelslike_f': 79.9, 'windchill_c': 20.2, 'windchill_f': 68.3, 'heatindex_c': 20.2, 'heatindex_f': 68.3, 'dewpoint_c': 18.2, 'dewpoint_f': 64.7, 'vis_km': 6.0, 'vis_miles': 3.0, 'uv': 1.0, 'gust_mph': 17.9, 'gust_kph': 28.9}}\", 'score': 0.9969663, 'raw_content': None}, {'title': 'Bangalore Weather and AQI Today: Warm start at 20.52 °C, check weather ...', 'url': 'https://www.hindustantimes.com/cities/bengaluru-news/bangalore-weather-today-aqi-and-rain-forecast-updates-september-4-2024-101725413408429.html', 'content': \"The temperature in Bangalore today, on September 4, 2024, is 23.95 °C. The day's forecast indicates a minimum and maximum temperature of 20.52 °C and 27.04 °C, respectively. The relative ...\", 'score': 0.9933589, 'raw_content': None}], 'response_time': 3.44}),\n",
       " AIMessage(content='The current weather in Bangalore is partly cloudy with a temperature of 24.3°C (75.7°F). The wind is coming from the west at 15.1 kph (9.4 mph), and the humidity is 89%. The visibility is 6.0 km (3.0 miles). [source](https://www.weatherapi.com/)', additional_kwargs={'refusal': None}, response_metadata={'token_usage': {'completion_tokens': 75, 'prompt_tokens': 647, 'total_tokens': 722}, 'model_name': 'gpt-4-0613', 'system_fingerprint': None, 'finish_reason': 'stop', 'logprobs': None}, id='run-61722f57-ad5b-4f16-b238-de0026cd7a3c-0', usage_metadata={'input_tokens': 647, 'output_tokens': 75, 'total_tokens': 722})]"
      ]
     },
     "execution_count": 24,
     "metadata": {},
     "output_type": "execute_result"
    }
   ],
   "source": [
    "response = agent_executor.invoke({\"messages\": [HumanMessage(content=\"How is the weather in Bangalore?\")]})\n",
    "response['messages']"
   ]
  },
  {
   "cell_type": "code",
   "execution_count": null,
   "metadata": {},
   "outputs": [],
   "source": []
  }
 ],
 "metadata": {
  "kernelspec": {
   "display_name": "llmenv",
   "language": "python",
   "name": "python3"
  },
  "language_info": {
   "codemirror_mode": {
    "name": "ipython",
    "version": 3
   },
   "file_extension": ".py",
   "mimetype": "text/x-python",
   "name": "python",
   "nbconvert_exporter": "python",
   "pygments_lexer": "ipython3",
   "version": "3.12.4"
  }
 },
 "nbformat": 4,
 "nbformat_minor": 2
}
