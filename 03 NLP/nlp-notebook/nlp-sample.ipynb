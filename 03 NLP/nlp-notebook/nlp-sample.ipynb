{
 "cells": [
  {
   "cell_type": "code",
   "execution_count": 1,
   "metadata": {},
   "outputs": [
    {
     "name": "stderr",
     "output_type": "stream",
     "text": [
      "[nltk_data] Downloading package punkt to\n",
      "[nltk_data]     C:\\Users\\prasa\\AppData\\Roaming\\nltk_data...\n",
      "[nltk_data]   Package punkt is already up-to-date!\n",
      "[nltk_data] Downloading package wordnet to\n",
      "[nltk_data]     C:\\Users\\prasa\\AppData\\Roaming\\nltk_data...\n",
      "[nltk_data]   Package wordnet is already up-to-date!\n",
      "[nltk_data] Downloading package stopwords to\n",
      "[nltk_data]     C:\\Users\\prasa\\AppData\\Roaming\\nltk_data...\n",
      "[nltk_data]   Package stopwords is already up-to-date!\n"
     ]
    }
   ],
   "source": [
    "import nltk\n",
    "import string\n",
    "import pandas as pd\n",
    "from sklearn.feature_extraction.text import TfidfVectorizer\n",
    "from sklearn.metrics.pairwise import cosine_similarity\n",
    "\n",
    "\n",
    "nltk.download('punkt')\n",
    "nltk.download('wordnet')\n",
    "nltk.download('stopwords')\n",
    "\n",
    "text1 = \"How to create Sales Order\"\n",
    "text2 = \"How to create Purchase Order\""
   ]
  },
  {
   "cell_type": "code",
   "execution_count": 2,
   "metadata": {},
   "outputs": [
    {
     "name": "stdout",
     "output_type": "stream",
     "text": [
      "Tokens1: ['How', 'to', 'create', 'Sales', 'Order']\n",
      "Tokens2: ['How', 'to', 'create', 'Purchase', 'Order']\n"
     ]
    }
   ],
   "source": [
    "#Tokenization\n",
    "from nltk.tokenize import word_tokenize\n",
    "\n",
    "tokens1 = word_tokenize(text1,preserve_line=True)\n",
    "tokens2 = word_tokenize(text2,preserve_line=True)\n",
    "\n",
    "print(\"Tokens1:\", tokens1)\n",
    "print(\"Tokens2:\", tokens2)"
   ]
  },
  {
   "cell_type": "code",
   "execution_count": 3,
   "metadata": {},
   "outputs": [
    {
     "name": "stdout",
     "output_type": "stream",
     "text": [
      "Lemmatized Tokens1: ['how', 'to', 'create', 'sale', 'order']\n",
      "Lemmatized Tokens2: ['how', 'to', 'create', 'purchase', 'order']\n"
     ]
    }
   ],
   "source": [
    "#Lemmetization\n",
    "\n",
    "from nltk.stem import WordNetLemmatizer\n",
    "\n",
    "lemmatizer = WordNetLemmatizer()\n",
    "\n",
    "# below For loop can also to written as \n",
    "# lowercased_tokens = []\n",
    "# for token in tokens1:\n",
    "# lowercased_tokens.append(token.lower())\n",
    "\n",
    "\n",
    "lemmatized_token1 = [lemmatizer.lemmatize(token.lower()) for token in tokens1]\n",
    "lemmatized_token2 = [lemmatizer.lemmatize(token.lower()) for token in tokens2]\n",
    "\n",
    "print(\"Lemmatized Tokens1:\", lemmatized_token1)\n",
    "print(\"Lemmatized Tokens2:\", lemmatized_token2)"
   ]
  },
  {
   "cell_type": "code",
   "execution_count": 4,
   "metadata": {},
   "outputs": [
    {
     "name": "stdout",
     "output_type": "stream",
     "text": [
      "Filtered Tokens1 ['create', 'sale', 'order']\n",
      "Filtered Tokens2 ['create', 'purchase', 'order']\n"
     ]
    }
   ],
   "source": [
    "#Stop word removal\n",
    "\n",
    "from nltk.corpus import stopwords\n",
    "stop_words = set(stopwords.words('english'))\n",
    "filtered_tokens1 = [token for token in lemmatized_token1 if token not in stop_words and token not in string.punctuation]\n",
    "filtered_tokens2 = [token for token in lemmatized_token2 if token not in stop_words and token not in string.punctuation]\n",
    "\n",
    "print(\"Filtered Tokens1\", filtered_tokens1)\n",
    "print(\"Filtered Tokens2\", filtered_tokens2)\n"
   ]
  },
  {
   "cell_type": "code",
   "execution_count": 5,
   "metadata": {},
   "outputs": [
    {
     "name": "stdout",
     "output_type": "stream",
     "text": [
      "<Compressed Sparse Row sparse matrix of dtype 'float64'\n",
      "\twith 6 stored elements and shape (2, 4)>\n",
      "  Coords\tValues\n",
      "  (0, 0)\t0.5015489070943787\n",
      "  (0, 3)\t0.7049094889309326\n",
      "  (0, 1)\t0.5015489070943787\n",
      "  (1, 0)\t0.5015489070943787\n",
      "  (1, 1)\t0.5015489070943787\n",
      "  (1, 2)\t0.7049094889309326\n",
      "TF-IDF Matrix:\n",
      "     create     order  purchase      sale\n",
      "0  0.501549  0.501549  0.000000  0.704909\n",
      "1  0.501549  0.501549  0.704909  0.000000\n"
     ]
    }
   ],
   "source": [
    "#TF - IDF Vectorization\n",
    "\n",
    "tfidf_vectorizer = TfidfVectorizer()\n",
    "tfidf_matrix = tfidf_vectorizer.fit_transform([' '.join(filtered_tokens1),' '.join(filtered_tokens2)])\n",
    "print(tfidf_matrix)\n",
    "df_tfidf = pd.DataFrame(tfidf_matrix.toarray(), columns=tfidf_vectorizer.get_feature_names_out())\n",
    "print(\"TF-IDF Matrix:\")\n",
    "print(df_tfidf)"
   ]
  },
  {
   "cell_type": "code",
   "execution_count": null,
   "metadata": {},
   "outputs": [],
   "source": []
  }
 ],
 "metadata": {
  "kernelspec": {
   "display_name": ".venv",
   "language": "python",
   "name": "python3"
  },
  "language_info": {
   "codemirror_mode": {
    "name": "ipython",
    "version": 3
   },
   "file_extension": ".py",
   "mimetype": "text/x-python",
   "name": "python",
   "nbconvert_exporter": "python",
   "pygments_lexer": "ipython3",
   "version": "3.12.4"
  }
 },
 "nbformat": 4,
 "nbformat_minor": 2
}
