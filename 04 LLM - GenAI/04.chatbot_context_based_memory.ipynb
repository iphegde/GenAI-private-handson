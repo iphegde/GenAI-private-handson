{
 "cells": [
  {
   "cell_type": "code",
   "execution_count": 1,
   "metadata": {},
   "outputs": [
    {
     "name": "stdout",
     "output_type": "stream",
     "text": [
      "Requirement already satisfied: langchain in d:\\new journey\\sap\\sap ai\\genaicourse2024\\codebase\\local-handson-3\\handson\\myml01\\04 llm\\llmenv\\lib\\site-packages (0.2.15)\n",
      "Requirement already satisfied: langchain-core in d:\\new journey\\sap\\sap ai\\genaicourse2024\\codebase\\local-handson-3\\handson\\myml01\\04 llm\\llmenv\\lib\\site-packages (0.2.37)\n",
      "Requirement already satisfied: langchain-community in d:\\new journey\\sap\\sap ai\\genaicourse2024\\codebase\\local-handson-3\\handson\\myml01\\04 llm\\llmenv\\lib\\site-packages (0.2.15)\n",
      "Requirement already satisfied: langchain-openai in d:\\new journey\\sap\\sap ai\\genaicourse2024\\codebase\\local-handson-3\\handson\\myml01\\04 llm\\llmenv\\lib\\site-packages (0.1.23)\n",
      "Requirement already satisfied: python-dotenv in d:\\new journey\\sap\\sap ai\\genaicourse2024\\codebase\\local-handson-3\\handson\\myml01\\04 llm\\llmenv\\lib\\site-packages (1.0.1)\n",
      "Requirement already satisfied: fastapi in d:\\new journey\\sap\\sap ai\\genaicourse2024\\codebase\\local-handson-3\\handson\\myml01\\04 llm\\llmenv\\lib\\site-packages (0.112.2)\n",
      "Requirement already satisfied: langserve in d:\\new journey\\sap\\sap ai\\genaicourse2024\\codebase\\local-handson-3\\handson\\myml01\\04 llm\\llmenv\\lib\\site-packages (0.2.2)\n",
      "Requirement already satisfied: PyYAML>=5.3 in d:\\new journey\\sap\\sap ai\\genaicourse2024\\codebase\\local-handson-3\\handson\\myml01\\04 llm\\llmenv\\lib\\site-packages (from langchain) (6.0.2)\n",
      "Requirement already satisfied: SQLAlchemy<3,>=1.4 in d:\\new journey\\sap\\sap ai\\genaicourse2024\\codebase\\local-handson-3\\handson\\myml01\\04 llm\\llmenv\\lib\\site-packages (from langchain) (2.0.32)\n",
      "Requirement already satisfied: aiohttp<4.0.0,>=3.8.3 in d:\\new journey\\sap\\sap ai\\genaicourse2024\\codebase\\local-handson-3\\handson\\myml01\\04 llm\\llmenv\\lib\\site-packages (from langchain) (3.10.5)\n",
      "Requirement already satisfied: langchain-text-splitters<0.3.0,>=0.2.0 in d:\\new journey\\sap\\sap ai\\genaicourse2024\\codebase\\local-handson-3\\handson\\myml01\\04 llm\\llmenv\\lib\\site-packages (from langchain) (0.2.2)\n",
      "Requirement already satisfied: langsmith<0.2.0,>=0.1.17 in d:\\new journey\\sap\\sap ai\\genaicourse2024\\codebase\\local-handson-3\\handson\\myml01\\04 llm\\llmenv\\lib\\site-packages (from langchain) (0.1.108)\n",
      "Requirement already satisfied: numpy<2.0.0,>=1.26.0 in d:\\new journey\\sap\\sap ai\\genaicourse2024\\codebase\\local-handson-3\\handson\\myml01\\04 llm\\llmenv\\lib\\site-packages (from langchain) (1.26.4)\n",
      "Requirement already satisfied: pydantic<3,>=1 in d:\\new journey\\sap\\sap ai\\genaicourse2024\\codebase\\local-handson-3\\handson\\myml01\\04 llm\\llmenv\\lib\\site-packages (from langchain) (2.8.2)\n",
      "Requirement already satisfied: requests<3,>=2 in d:\\new journey\\sap\\sap ai\\genaicourse2024\\codebase\\local-handson-3\\handson\\myml01\\04 llm\\llmenv\\lib\\site-packages (from langchain) (2.32.3)\n",
      "Requirement already satisfied: tenacity!=8.4.0,<9.0.0,>=8.1.0 in d:\\new journey\\sap\\sap ai\\genaicourse2024\\codebase\\local-handson-3\\handson\\myml01\\04 llm\\llmenv\\lib\\site-packages (from langchain) (8.5.0)\n",
      "Requirement already satisfied: jsonpatch<2.0,>=1.33 in d:\\new journey\\sap\\sap ai\\genaicourse2024\\codebase\\local-handson-3\\handson\\myml01\\04 llm\\llmenv\\lib\\site-packages (from langchain-core) (1.33)\n",
      "Requirement already satisfied: packaging<25,>=23.2 in d:\\new journey\\sap\\sap ai\\genaicourse2024\\codebase\\local-handson-3\\handson\\myml01\\04 llm\\llmenv\\lib\\site-packages (from langchain-core) (24.1)\n",
      "Requirement already satisfied: typing-extensions>=4.7 in d:\\new journey\\sap\\sap ai\\genaicourse2024\\codebase\\local-handson-3\\handson\\myml01\\04 llm\\llmenv\\lib\\site-packages (from langchain-core) (4.12.2)\n",
      "Requirement already satisfied: dataclasses-json<0.7,>=0.5.7 in d:\\new journey\\sap\\sap ai\\genaicourse2024\\codebase\\local-handson-3\\handson\\myml01\\04 llm\\llmenv\\lib\\site-packages (from langchain-community) (0.6.7)\n",
      "Requirement already satisfied: openai<2.0.0,>=1.40.0 in d:\\new journey\\sap\\sap ai\\genaicourse2024\\codebase\\local-handson-3\\handson\\myml01\\04 llm\\llmenv\\lib\\site-packages (from langchain-openai) (1.43.0)\n",
      "Requirement already satisfied: tiktoken<1,>=0.7 in d:\\new journey\\sap\\sap ai\\genaicourse2024\\codebase\\local-handson-3\\handson\\myml01\\04 llm\\llmenv\\lib\\site-packages (from langchain-openai) (0.7.0)\n",
      "Requirement already satisfied: starlette<0.39.0,>=0.37.2 in d:\\new journey\\sap\\sap ai\\genaicourse2024\\codebase\\local-handson-3\\handson\\myml01\\04 llm\\llmenv\\lib\\site-packages (from fastapi) (0.38.2)\n",
      "Requirement already satisfied: httpx>=0.23.0 in d:\\new journey\\sap\\sap ai\\genaicourse2024\\codebase\\local-handson-3\\handson\\myml01\\04 llm\\llmenv\\lib\\site-packages (from langserve) (0.27.2)\n",
      "Requirement already satisfied: orjson>=2 in d:\\new journey\\sap\\sap ai\\genaicourse2024\\codebase\\local-handson-3\\handson\\myml01\\04 llm\\llmenv\\lib\\site-packages (from langserve) (3.10.7)\n",
      "Requirement already satisfied: pyproject-toml<0.0.11,>=0.0.10 in d:\\new journey\\sap\\sap ai\\genaicourse2024\\codebase\\local-handson-3\\handson\\myml01\\04 llm\\llmenv\\lib\\site-packages (from langserve) (0.0.10)\n",
      "Requirement already satisfied: aiohappyeyeballs>=2.3.0 in d:\\new journey\\sap\\sap ai\\genaicourse2024\\codebase\\local-handson-3\\handson\\myml01\\04 llm\\llmenv\\lib\\site-packages (from aiohttp<4.0.0,>=3.8.3->langchain) (2.4.0)\n",
      "Requirement already satisfied: aiosignal>=1.1.2 in d:\\new journey\\sap\\sap ai\\genaicourse2024\\codebase\\local-handson-3\\handson\\myml01\\04 llm\\llmenv\\lib\\site-packages (from aiohttp<4.0.0,>=3.8.3->langchain) (1.3.1)\n",
      "Requirement already satisfied: attrs>=17.3.0 in d:\\new journey\\sap\\sap ai\\genaicourse2024\\codebase\\local-handson-3\\handson\\myml01\\04 llm\\llmenv\\lib\\site-packages (from aiohttp<4.0.0,>=3.8.3->langchain) (24.2.0)\n",
      "Requirement already satisfied: frozenlist>=1.1.1 in d:\\new journey\\sap\\sap ai\\genaicourse2024\\codebase\\local-handson-3\\handson\\myml01\\04 llm\\llmenv\\lib\\site-packages (from aiohttp<4.0.0,>=3.8.3->langchain) (1.4.1)\n",
      "Requirement already satisfied: multidict<7.0,>=4.5 in d:\\new journey\\sap\\sap ai\\genaicourse2024\\codebase\\local-handson-3\\handson\\myml01\\04 llm\\llmenv\\lib\\site-packages (from aiohttp<4.0.0,>=3.8.3->langchain) (6.0.5)\n",
      "Requirement already satisfied: yarl<2.0,>=1.0 in d:\\new journey\\sap\\sap ai\\genaicourse2024\\codebase\\local-handson-3\\handson\\myml01\\04 llm\\llmenv\\lib\\site-packages (from aiohttp<4.0.0,>=3.8.3->langchain) (1.9.6)\n",
      "Requirement already satisfied: marshmallow<4.0.0,>=3.18.0 in d:\\new journey\\sap\\sap ai\\genaicourse2024\\codebase\\local-handson-3\\handson\\myml01\\04 llm\\llmenv\\lib\\site-packages (from dataclasses-json<0.7,>=0.5.7->langchain-community) (3.22.0)\n",
      "Requirement already satisfied: typing-inspect<1,>=0.4.0 in d:\\new journey\\sap\\sap ai\\genaicourse2024\\codebase\\local-handson-3\\handson\\myml01\\04 llm\\llmenv\\lib\\site-packages (from dataclasses-json<0.7,>=0.5.7->langchain-community) (0.9.0)\n",
      "Requirement already satisfied: anyio in d:\\new journey\\sap\\sap ai\\genaicourse2024\\codebase\\local-handson-3\\handson\\myml01\\04 llm\\llmenv\\lib\\site-packages (from httpx>=0.23.0->langserve) (4.4.0)\n",
      "Requirement already satisfied: certifi in d:\\new journey\\sap\\sap ai\\genaicourse2024\\codebase\\local-handson-3\\handson\\myml01\\04 llm\\llmenv\\lib\\site-packages (from httpx>=0.23.0->langserve) (2024.8.30)\n",
      "Requirement already satisfied: httpcore==1.* in d:\\new journey\\sap\\sap ai\\genaicourse2024\\codebase\\local-handson-3\\handson\\myml01\\04 llm\\llmenv\\lib\\site-packages (from httpx>=0.23.0->langserve) (1.0.5)\n",
      "Requirement already satisfied: idna in d:\\new journey\\sap\\sap ai\\genaicourse2024\\codebase\\local-handson-3\\handson\\myml01\\04 llm\\llmenv\\lib\\site-packages (from httpx>=0.23.0->langserve) (3.8)\n",
      "Requirement already satisfied: sniffio in d:\\new journey\\sap\\sap ai\\genaicourse2024\\codebase\\local-handson-3\\handson\\myml01\\04 llm\\llmenv\\lib\\site-packages (from httpx>=0.23.0->langserve) (1.3.1)\n",
      "Requirement already satisfied: h11<0.15,>=0.13 in d:\\new journey\\sap\\sap ai\\genaicourse2024\\codebase\\local-handson-3\\handson\\myml01\\04 llm\\llmenv\\lib\\site-packages (from httpcore==1.*->httpx>=0.23.0->langserve) (0.14.0)\n",
      "Requirement already satisfied: jsonpointer>=1.9 in d:\\new journey\\sap\\sap ai\\genaicourse2024\\codebase\\local-handson-3\\handson\\myml01\\04 llm\\llmenv\\lib\\site-packages (from jsonpatch<2.0,>=1.33->langchain-core) (3.0.0)\n",
      "Requirement already satisfied: distro<2,>=1.7.0 in d:\\new journey\\sap\\sap ai\\genaicourse2024\\codebase\\local-handson-3\\handson\\myml01\\04 llm\\llmenv\\lib\\site-packages (from openai<2.0.0,>=1.40.0->langchain-openai) (1.9.0)\n",
      "Requirement already satisfied: jiter<1,>=0.4.0 in d:\\new journey\\sap\\sap ai\\genaicourse2024\\codebase\\local-handson-3\\handson\\myml01\\04 llm\\llmenv\\lib\\site-packages (from openai<2.0.0,>=1.40.0->langchain-openai) (0.5.0)\n",
      "Requirement already satisfied: tqdm>4 in d:\\new journey\\sap\\sap ai\\genaicourse2024\\codebase\\local-handson-3\\handson\\myml01\\04 llm\\llmenv\\lib\\site-packages (from openai<2.0.0,>=1.40.0->langchain-openai) (4.66.5)\n",
      "Requirement already satisfied: annotated-types>=0.4.0 in d:\\new journey\\sap\\sap ai\\genaicourse2024\\codebase\\local-handson-3\\handson\\myml01\\04 llm\\llmenv\\lib\\site-packages (from pydantic<3,>=1->langchain) (0.7.0)\n",
      "Requirement already satisfied: pydantic-core==2.20.1 in d:\\new journey\\sap\\sap ai\\genaicourse2024\\codebase\\local-handson-3\\handson\\myml01\\04 llm\\llmenv\\lib\\site-packages (from pydantic<3,>=1->langchain) (2.20.1)\n",
      "Requirement already satisfied: setuptools>=42 in d:\\new journey\\sap\\sap ai\\genaicourse2024\\codebase\\local-handson-3\\handson\\myml01\\04 llm\\llmenv\\lib\\site-packages (from pyproject-toml<0.0.11,>=0.0.10->langserve) (74.0.0)\n",
      "Requirement already satisfied: wheel in d:\\new journey\\sap\\sap ai\\genaicourse2024\\codebase\\local-handson-3\\handson\\myml01\\04 llm\\llmenv\\lib\\site-packages (from pyproject-toml<0.0.11,>=0.0.10->langserve) (0.44.0)\n",
      "Requirement already satisfied: toml in d:\\new journey\\sap\\sap ai\\genaicourse2024\\codebase\\local-handson-3\\handson\\myml01\\04 llm\\llmenv\\lib\\site-packages (from pyproject-toml<0.0.11,>=0.0.10->langserve) (0.10.2)\n",
      "Requirement already satisfied: jsonschema in d:\\new journey\\sap\\sap ai\\genaicourse2024\\codebase\\local-handson-3\\handson\\myml01\\04 llm\\llmenv\\lib\\site-packages (from pyproject-toml<0.0.11,>=0.0.10->langserve) (4.23.0)\n",
      "Requirement already satisfied: charset-normalizer<4,>=2 in d:\\new journey\\sap\\sap ai\\genaicourse2024\\codebase\\local-handson-3\\handson\\myml01\\04 llm\\llmenv\\lib\\site-packages (from requests<3,>=2->langchain) (3.3.2)\n",
      "Requirement already satisfied: urllib3<3,>=1.21.1 in d:\\new journey\\sap\\sap ai\\genaicourse2024\\codebase\\local-handson-3\\handson\\myml01\\04 llm\\llmenv\\lib\\site-packages (from requests<3,>=2->langchain) (2.2.2)\n",
      "Requirement already satisfied: greenlet!=0.4.17 in d:\\new journey\\sap\\sap ai\\genaicourse2024\\codebase\\local-handson-3\\handson\\myml01\\04 llm\\llmenv\\lib\\site-packages (from SQLAlchemy<3,>=1.4->langchain) (3.0.3)\n",
      "Requirement already satisfied: regex>=2022.1.18 in d:\\new journey\\sap\\sap ai\\genaicourse2024\\codebase\\local-handson-3\\handson\\myml01\\04 llm\\llmenv\\lib\\site-packages (from tiktoken<1,>=0.7->langchain-openai) (2024.7.24)\n",
      "Requirement already satisfied: colorama in d:\\new journey\\sap\\sap ai\\genaicourse2024\\codebase\\local-handson-3\\handson\\myml01\\04 llm\\llmenv\\lib\\site-packages (from tqdm>4->openai<2.0.0,>=1.40.0->langchain-openai) (0.4.6)\n",
      "Requirement already satisfied: mypy-extensions>=0.3.0 in d:\\new journey\\sap\\sap ai\\genaicourse2024\\codebase\\local-handson-3\\handson\\myml01\\04 llm\\llmenv\\lib\\site-packages (from typing-inspect<1,>=0.4.0->dataclasses-json<0.7,>=0.5.7->langchain-community) (1.0.0)\n",
      "Requirement already satisfied: jsonschema-specifications>=2023.03.6 in d:\\new journey\\sap\\sap ai\\genaicourse2024\\codebase\\local-handson-3\\handson\\myml01\\04 llm\\llmenv\\lib\\site-packages (from jsonschema->pyproject-toml<0.0.11,>=0.0.10->langserve) (2023.12.1)\n",
      "Requirement already satisfied: referencing>=0.28.4 in d:\\new journey\\sap\\sap ai\\genaicourse2024\\codebase\\local-handson-3\\handson\\myml01\\04 llm\\llmenv\\lib\\site-packages (from jsonschema->pyproject-toml<0.0.11,>=0.0.10->langserve) (0.35.1)\n",
      "Requirement already satisfied: rpds-py>=0.7.1 in d:\\new journey\\sap\\sap ai\\genaicourse2024\\codebase\\local-handson-3\\handson\\myml01\\04 llm\\llmenv\\lib\\site-packages (from jsonschema->pyproject-toml<0.0.11,>=0.0.10->langserve) (0.20.0)\n",
      "Note: you may need to restart the kernel to use updated packages.\n"
     ]
    },
    {
     "name": "stderr",
     "output_type": "stream",
     "text": [
      "\n",
      "[notice] A new release of pip is available: 24.0 -> 24.2\n",
      "[notice] To update, run: python.exe -m pip install --upgrade pip\n"
     ]
    }
   ],
   "source": [
    "pip install langchain langchain-core langchain-community langchain-openai python-dotenv fastapi langserve"
   ]
  },
  {
   "cell_type": "code",
   "execution_count": 4,
   "metadata": {},
   "outputs": [],
   "source": [
    "from langchain_openai import ChatOpenAI\n",
    "from langchain_core.messages import HumanMessage, AIMessage\n",
    "from langchain_core.prompts import ChatPromptTemplate, MessagesPlaceholder\n",
    "from langchain_core.runnables.history import RunnableWithMessageHistory\n",
    "from langchain_community.chat_message_histories import ChatMessageHistory\n",
    "from langchain_core.chat_history import BaseChatMessageHistory\n",
    "from langchain_core.runnables import RunnablePassthrough\n",
    "\n",
    "import os\n",
    "from dotenv import load_dotenv\n",
    "load_dotenv()\n",
    "\n",
    "os.environ[\"OPENAI_API_KEY\"] = os.getenv(\"OPENAI_API_KEY\")\n",
    "key = os.getenv(\"OPENAI_API_KEY\")\n",
    "\n",
    "model = ChatOpenAI(model=\"gpt-4o\")\n"
   ]
  },
  {
   "cell_type": "code",
   "execution_count": 8,
   "metadata": {},
   "outputs": [
    {
     "data": {
      "text/plain": [
       "AIMessage(content='Hello, PK! How can I assist you today?', additional_kwargs={'refusal': None}, response_metadata={'token_usage': {'completion_tokens': 11, 'prompt_tokens': 11, 'total_tokens': 22}, 'model_name': 'gpt-4o-2024-05-13', 'system_fingerprint': 'fp_fde2829a40', 'finish_reason': 'stop', 'logprobs': None}, id='run-a38f31b4-fe2c-4d83-931e-bae2a9d6998b-0', usage_metadata={'input_tokens': 11, 'output_tokens': 11, 'total_tokens': 22})"
      ]
     },
     "execution_count": 8,
     "metadata": {},
     "output_type": "execute_result"
    }
   ],
   "source": [
    "from langchain_core.messages import HumanMessage\n",
    "\n",
    "model.invoke([HumanMessage(content=\"Hi, im PK\")])"
   ]
  },
  {
   "cell_type": "code",
   "execution_count": 10,
   "metadata": {},
   "outputs": [],
   "source": [
    "from langchain_community.chat_message_histories import ChatMessageHistory\n",
    "from langchain_core.chat_history import BaseChatMessageHistory\n",
    "from langchain_core.runnables.history import RunnableWithMessageHistory\n",
    "\n",
    "store = {}\n",
    "\n",
    "def get_session_history(session_id: str) -> BaseChatMessageHistory:\n",
    "    if session_id not in store:\n",
    "        store[session_id] = ChatMessageHistory()\n",
    "    return store[session_id]\n",
    "\n",
    "with_message_history = RunnableWithMessageHistory(model, get_session_history)"
   ]
  },
  {
   "cell_type": "code",
   "execution_count": 11,
   "metadata": {},
   "outputs": [
    {
     "data": {
      "text/plain": [
       "'Hello, PK! How can I assist you today?'"
      ]
     },
     "execution_count": 11,
     "metadata": {},
     "output_type": "execute_result"
    }
   ],
   "source": [
    "config = {\"configurable\": {\"session_id\": \"abc2\"}}\n",
    "\n",
    "response = with_message_history.invoke(\n",
    "    [HumanMessage(content=\"Hi! I'm PK\")],\n",
    "    config=config,\n",
    ")\n",
    "\n",
    "response.content"
   ]
  },
  {
   "cell_type": "code",
   "execution_count": 12,
   "metadata": {},
   "outputs": [
    {
     "data": {
      "text/plain": [
       "'You mentioned that your name is PK. How can I help you today, PK?'"
      ]
     },
     "execution_count": 12,
     "metadata": {},
     "output_type": "execute_result"
    }
   ],
   "source": [
    "response = with_message_history.invoke(\n",
    "    [HumanMessage(content=\"What's my name?\")],\n",
    "    config=config,\n",
    ")\n",
    "\n",
    "response.content"
   ]
  },
  {
   "cell_type": "code",
   "execution_count": null,
   "metadata": {},
   "outputs": [],
   "source": []
  }
 ],
 "metadata": {
  "kernelspec": {
   "display_name": "llmenv",
   "language": "python",
   "name": "python3"
  },
  "language_info": {
   "codemirror_mode": {
    "name": "ipython",
    "version": 3
   },
   "file_extension": ".py",
   "mimetype": "text/x-python",
   "name": "python",
   "nbconvert_exporter": "python",
   "pygments_lexer": "ipython3",
   "version": "3.12.4"
  }
 },
 "nbformat": 4,
 "nbformat_minor": 2
}
